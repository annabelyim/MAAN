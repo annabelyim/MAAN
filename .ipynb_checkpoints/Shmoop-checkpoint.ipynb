{
 "cells": [
  {
   "cell_type": "code",
   "execution_count": 25,
   "metadata": {},
   "outputs": [],
   "source": [
    "import requests\n",
    "import pandas as pd\n",
    "from urllib.request import urlopen\n",
    "from bs4 import BeautifulSoup\n",
    "import nltk\n",
    "from nltk.corpus import stopwords\n",
    "from stop_words import get_stop_words"
   ]
  },
  {
   "cell_type": "code",
   "execution_count": 26,
   "metadata": {},
   "outputs": [],
   "source": [
    "def shmoop_df(url, chara):\n",
    "    html = urlopen(url)\n",
    "    bs = BeautifulSoup(html.read(), 'html.parser')\n",
    "    content = bs.find('div', {'data-class':\"SHPlotOverviewSection\"}).get_text()\n",
    "    \n",
    "    tokenizer = nltk.RegexpTokenizer(r\"\\w+\")\n",
    "    token = tokenizer.tokenize(content)\n",
    "    stop_words = list(get_stop_words('en'))         \n",
    "    nltk_words = list(stopwords.words('english')) \n",
    "    stop_words.extend(nltk_words)\n",
    "    keywords = [word.lower() for word in token if not word.lower() in stop_words]\n",
    "    keywords = [word.lower() for word in keywords if not word in chara]\n",
    "    key_df = pd.DataFrame(keywords, columns = ['word'])\n",
    "    key_df = key_df['word'].value_counts()\n",
    "    key_df = key_df.to_frame()\n",
    "    \n",
    "    return key_df"
   ]
  },
  {
   "cell_type": "code",
   "execution_count": 27,
   "metadata": {},
   "outputs": [],
   "source": [
    "def shmoop_df2(url, chara):\n",
    "    html = urlopen(url)\n",
    "    bs = BeautifulSoup(html.read(), 'html.parser')\n",
    "    content = bs.find_all(\"div\", {\"class\":\"content-wrapper\"})\n",
    "    for x in content:\n",
    "        content = (x.find_all(\"p\"))\n",
    "    content = '\\n'.join([c.text for c in content])\n",
    "    \n",
    "    tokenizer = nltk.RegexpTokenizer(r\"\\w+\")\n",
    "    token = tokenizer.tokenize(content)\n",
    "    stop_words = list(get_stop_words('en'))         \n",
    "    nltk_words = list(stopwords.words('english')) \n",
    "    stop_words.extend(nltk_words)\n",
    "    keywords = [word.lower() for word in token if not word.lower() in stop_words]\n",
    "    keywords = [word.lower() for word in keywords if not word in chara]\n",
    "    key_df = pd.DataFrame(keywords, columns = ['word'])\n",
    "    key_df = key_df['word'].value_counts()\n",
    "    key_df = key_df.to_frame()\n",
    "    \n",
    "    return key_df"
   ]
  },
  {
   "cell_type": "code",
   "execution_count": 28,
   "metadata": {},
   "outputs": [],
   "source": [
    "much_ado = shmoop_df('https://www.shmoop.com/study-guides/literature/much-ado-about-nothing/summary', \n",
    "                     ['hero', 'claudio', 'beatrice', 'leonato', 'don', 'pedro', 'john','benedick', 'margaret', \n",
    "                      'borachio', 'conrad', 'dogberry', 'verges', 'antonio', 'balthasar', 'ursula', 'much', 'nothing',\n",
    "                      'william', 'shakespeare'])\n",
    "much_ado['title'] = 'Much Ado About Nothing'"
   ]
  },
  {
   "cell_type": "code",
   "execution_count": 29,
   "metadata": {},
   "outputs": [],
   "source": [
    "pride = shmoop_df2('https://www.shmoop.com/study-guides/literature/pride-and-prejudice/summary',\n",
    "                     ['elizabeth', 'bennet', 'fitzwilliam', 'darcy', 'jane', 'mary', 'catherine', 'kitty',\n",
    "                     'lydia', 'charles', 'caroline', 'bingley', 'hurst', 'wickham', 'mr', 'mrs', 'de', 'bourgh',\n",
    "                     'pride', 'prejudice', 'jane', 'austen'])\n",
    "pride['title'] = 'Pride and Prejudice'"
   ]
  },
  {
   "cell_type": "code",
   "execution_count": 30,
   "metadata": {},
   "outputs": [],
   "source": [
    "gatsby = shmoop_df2('https://www.shmoop.com/study-guides/literature/great-gatsby/summary',\n",
    "                     ['jay', 'gatsby', 'nick', 'tom', 'daisy', 'wilson', 'jordan', 'scott', 'fitzgerald',\n",
    "                     'dan', 'cody', 'henry', 'gatz', 'ewing', 'klipspringer', 'michaelis', 'catherine',\n",
    "                     'wilson', 'george', 'myrtle', 'baker', 'pammy', 'buchanan', 'carraway'])\n",
    "gatsby['title'] = 'The Great Gatsby'"
   ]
  },
  {
   "cell_type": "code",
   "execution_count": 31,
   "metadata": {},
   "outputs": [],
   "source": [
    "scarlet_letter = shmoop_df2('https://www.shmoop.com/study-guides/literature/scarlet-letter/summary',\n",
    "                     ['hester', 'dimmesdale', 'pearl', 'chillingworth', 'letter', 'scarlet', 'nathaniel',\n",
    "                     'hawthorne', 'chillingworth', 'roger', 'governor', 'bellingham', 'mistress', 'hibbins',\n",
    "                     'john', 'wilson'])\n",
    "scarlet_letter['title'] = 'The Scarlet Letter'"
   ]
  },
  {
   "cell_type": "code",
   "execution_count": 32,
   "metadata": {},
   "outputs": [],
   "source": [
    "romeo_juliet = shmoop_df2('https://www.shmoop.com/study-guides/literature/romeo-and-juliet/summary',\n",
    "                     ['romeo', 'juliet', 'william', 'shakespeare', 'capulet', 'montague', 'mercutio', 'tybalt',\n",
    "                     'paris', 'friar', 'laurence', 'nurse', 'benvolio', 'lady', 'balthasar', 'apothecary',\n",
    "                     'escalus', 'john', 'verona', 'prince', 'peter', 'abram', 'sampson', 'gregory'])\n",
    "romeo_juliet['title'] = 'Romeo and Juliet'"
   ]
  },
  {
   "cell_type": "code",
   "execution_count": 33,
   "metadata": {},
   "outputs": [],
   "source": [
    "macbeth = shmoop_df2('https://www.shmoop.com/study-guides/literature/macbeth/summary',\n",
    "                     ['macbeth', 'william', 'shakespeare', 'lady', 'banquo', 'duncan', 'fleance', 'donalbain',\n",
    "                     'malcolm', 'macduff', 'lennox', 'ross', 'menteth', 'angus', 'caithness', 'witches'])\n",
    "macbeth['title'] = 'Macbeth'"
   ]
  },
  {
   "cell_type": "code",
   "execution_count": 34,
   "metadata": {},
   "outputs": [],
   "source": [
    "emma = shmoop_df2('https://www.shmoop.com/study-guides/literature/emma/summary',\n",
    "                     ['emma', 'woodhouse', 'henry', 'george', 'knightley', 'frank', 'mr', 'jane', 'philip','elton',\n",
    "                     'anne', 'taylor', 'miss', 'mrs', 'harriet', 'churchill', 'weston', 'austen'])\n",
    "emma['title'] = 'Emma'"
   ]
  },
  {
   "cell_type": "code",
   "execution_count": 35,
   "metadata": {},
   "outputs": [],
   "source": [
    "jane_eyre = shmoop_df2('https://www.shmoop.com/study-guides/literature/jane-eyre/summary',\n",
    "                     ['jane', 'eyre','edward', 'fairfax','rochester','sarah', 'reed', 'john', 'eliza', 'thornfield',\n",
    "                     'charlotte', 'Brontë'])\n",
    "jane_eyre['title'] = 'Jane Eyre'"
   ]
  },
  {
   "cell_type": "code",
   "execution_count": 36,
   "metadata": {},
   "outputs": [],
   "source": [
    "taming = shmoop_df2('https://www.shmoop.com/study-guides/literature/taming-of-the-shrew/summary',\n",
    "                     ['christopher', 'sly', 'petruchio', 'katherine', 'kate', 'lucentio', 'bianca', 'taming', 'shrew',\n",
    "                     'hortensio', 'baptista', 'lord', 'tranio', 'minola', 'william', 'shakespeare'])\n",
    "taming['title'] = 'The Taming of the Shrew'"
   ]
  },
  {
   "cell_type": "code",
   "execution_count": 37,
   "metadata": {},
   "outputs": [],
   "source": [
    "like_it = shmoop_df2('https://www.shmoop.com/study-guides/literature/as-you-like-it/summary',\n",
    "                     ['orlando', 'rosalind', 'frederick', 'oliver', 'forest', 'arden', 'celia', 'william', 'shakespeare'])\n",
    "like_it['title'] = 'As You Like It'"
   ]
  },
  {
   "cell_type": "code",
   "execution_count": 38,
   "metadata": {},
   "outputs": [],
   "source": [
    "earnest = shmoop_df2('https://www.shmoop.com/study-guides/literature/importance-of-being-earnest/summary',\n",
    "                     ['john', 'worthing', 'jack', 'algernon', 'moncrieff', 'cecily', 'ernest', 'bracknell', 'earnest',\n",
    "                     'lady', 'miss', 'algy', 'gwendolen', 'oscar', 'wilde'])\n",
    "earnest['title'] = 'The Importance of Being Earnest'"
   ]
  },
  {
   "cell_type": "code",
   "execution_count": 39,
   "metadata": {},
   "outputs": [],
   "source": [
    "awakening = shmoop_df2('https://www.shmoop.com/study-guides/literature/the-awakening/summary',\n",
    "                     ['edna', 'robert', 'léonce', 'ratignolle', 'mademoiselle', 'awakening', 'kate', 'chopin'])\n",
    "awakening['title'] = 'The Awakening'"
   ]
  },
  {
   "cell_type": "code",
   "execution_count": 40,
   "metadata": {},
   "outputs": [],
   "source": [
    "othello = shmoop_df2('https://www.shmoop.com/study-guides/literature/othello/summary',\n",
    "                     ['othello', 'iago', 'desdemona', 'cassio', 'roderigo', 'brabantio', 'emilia', 'duke', 'venice',\n",
    "                     'cyprus', 'william', 'shakespeare'])\n",
    "othello['title'] = 'Othello'"
   ]
  },
  {
   "cell_type": "code",
   "execution_count": 41,
   "metadata": {},
   "outputs": [],
   "source": [
    "twelfth_night = shmoop_df2('https://www.shmoop.com/study-guides/literature/twelfth-night/summary',\n",
    "                     ['orsino', 'viola', 'olivia', 'sir', 'toby', 'maria', 'sebastian', 'malvolio', 'duke', \n",
    "                      'countess', 'william', 'shakespeare'])\n",
    "twelfth_night['title'] = 'Twelfth Night'"
   ]
  },
  {
   "cell_type": "code",
   "execution_count": 42,
   "metadata": {},
   "outputs": [],
   "source": [
    "life_pi = shmoop_df2('https://www.shmoop.com/study-guides/literature/life-of-pi/summary',\n",
    "                     ['mr.', 'adirubasamy', 'pi', 'yann', 'martel', 'piscine', 'molitor', 'patel', 'thirsty',\n",
    "                      'richard', 'parker'])\n",
    "life_pi['title'] = 'Life of Pi'"
   ]
  },
  {
   "cell_type": "code",
   "execution_count": 43,
   "metadata": {},
   "outputs": [],
   "source": [
    "kite_runner = shmoop_df2('https://www.shmoop.com/study-guides/literature/kite-runner/summary',\n",
    "                     ['amir', 'baba', 'hassan', 'sohrab', 'rahim', 'assef', 'soraya', 'ali', 'general', \n",
    "                     'sahib', 'farid', 'khala', 'taheri', 'afghanistan', 'kite', 'runner', 'kabul'])\n",
    "kite_runner['title'] = 'The Kite Runner'"
   ]
  },
  {
   "cell_type": "code",
   "execution_count": 44,
   "metadata": {},
   "outputs": [],
   "source": [
    "handmaid_tale = shmoop_df2('https://www.shmoop.com/study-guides/literature/handmaids-tale/summary',\n",
    "                     ['offred', 'moira', 'serena', 'joy', 'commander', 'nick', 'aunt', 'lydia', 'luke',\n",
    "                     'ofglen', 'rita', 'cora', 'gilead', 'tale', 'handmaids', 'margaret', 'atwood', 'pieixoto', \n",
    "                      'narrator'])\n",
    "handmaid_tale['title'] = \"The Handmaid's Tale\""
   ]
  },
  {
   "cell_type": "code",
   "execution_count": 45,
   "metadata": {},
   "outputs": [],
   "source": [
    "beloved = shmoop_df2('https://www.shmoop.com/study-guides/literature/beloved/summary',\n",
    "                     ['sethe', 'beloved', 'paul', 'toni', 'morrison', 'denver', 'halle', 'suggs', 'amy', 'vashti'])\n",
    "beloved['title'] = \"Beloved\""
   ]
  },
  {
   "cell_type": "code",
   "execution_count": 65,
   "metadata": {},
   "outputs": [],
   "source": [
    "shmoop_df = [much_ado, pride, gatsby, scarlet_letter, romeo_juliet, macbeth, emma, jane_eyre, taming, like_it,\n",
    "            earnest, awakening, othello, twelfth_night, life_pi, kite_runner, handmaid_tale, beloved]\n",
    "keys_df = pd.DataFrame()\n",
    "for df in shmoop_df:\n",
    "    keys_df = keys_df.append(df)"
   ]
  },
  {
   "cell_type": "code",
   "execution_count": 66,
   "metadata": {},
   "outputs": [],
   "source": [
    "keys_df.to_csv(\"shmoop.csv\")"
   ]
  },
  {
   "cell_type": "code",
   "execution_count": 67,
   "metadata": {},
   "outputs": [
    {
     "name": "stdout",
     "output_type": "stream",
     "text": [
      "['Much Ado About Nothing' 'Pride and Prejudice' 'The Great Gatsby'\n",
      " 'The Scarlet Letter' 'Romeo and Juliet' 'Macbeth' 'Emma' 'Jane Eyre'\n",
      " 'The Taming of the Shrew' 'As You Like It'\n",
      " 'The Importance of Being Earnest' 'The Awakening' 'Othello'\n",
      " 'Twelfth Night' 'Life of Pi' 'The Kite Runner' \"The Handmaid's Tale\"\n",
      " 'Beloved']\n"
     ]
    }
   ],
   "source": [
    "print(keys_df.title.unique())"
   ]
  },
  {
   "cell_type": "code",
   "execution_count": null,
   "metadata": {},
   "outputs": [],
   "source": []
  }
 ],
 "metadata": {
  "kernelspec": {
   "display_name": "Python 3",
   "language": "python",
   "name": "python3"
  },
  "language_info": {
   "codemirror_mode": {
    "name": "ipython",
    "version": 3
   },
   "file_extension": ".py",
   "mimetype": "text/x-python",
   "name": "python",
   "nbconvert_exporter": "python",
   "pygments_lexer": "ipython3",
   "version": "3.7.4"
  }
 },
 "nbformat": 4,
 "nbformat_minor": 2
}
