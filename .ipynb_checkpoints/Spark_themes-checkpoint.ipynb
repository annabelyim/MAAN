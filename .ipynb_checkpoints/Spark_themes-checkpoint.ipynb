{
 "cells": [
  {
   "cell_type": "code",
   "execution_count": 46,
   "metadata": {},
   "outputs": [],
   "source": [
    "import requests\n",
    "import pandas as pd\n",
    "from urllib.request import urlopen\n",
    "from bs4 import BeautifulSoup\n",
    "import nltk\n",
    "from nltk.corpus import stopwords\n",
    "from stop_words import get_stop_words"
   ]
  },
  {
   "cell_type": "code",
   "execution_count": 47,
   "metadata": {},
   "outputs": [],
   "source": [
    "def sparknotes_themes(url, chara):\n",
    "    html = urlopen(url)\n",
    "    bs = BeautifulSoup(html.read(), 'html.parser')\n",
    "    content = bs.findAll('div',attrs={\"class\":\"studyGuideText hack-to-hide-first-h2\"})\n",
    "    for x in content:\n",
    "        content = (x.find_all(['p','h3']))\n",
    "    content = '\\n'.join([c.text for c in content])\n",
    "    \n",
    "    tokenizer = nltk.RegexpTokenizer(r\"\\w+\")\n",
    "    token = tokenizer.tokenize(content)\n",
    "    stop_words = list(get_stop_words('en'))         \n",
    "    nltk_words = list(stopwords.words('english')) \n",
    "    stop_words.extend(nltk_words)\n",
    "    keywords = [word.lower() for word in token if not word.lower() in stop_words]\n",
    "    keywords = [word.lower() for word in keywords if not word in chara]\n",
    "    key_df = pd.DataFrame(keywords, columns = ['word'])\n",
    "    key_df = key_df['word'].value_counts()\n",
    "    key_df = key_df.to_frame()\n",
    "    \n",
    "    return key_df\n"
   ]
  },
  {
   "cell_type": "code",
   "execution_count": 48,
   "metadata": {},
   "outputs": [],
   "source": [
    "def sparknotes_themes2(url, chara):\n",
    "    html = urlopen(url)\n",
    "    bs = BeautifulSoup(html.read(), 'html.parser')\n",
    "    content = bs.findAll('div',attrs={\"class\":\"mainTextContent main-container\"})\n",
    "    for x in content:\n",
    "        content = (x.find_all(['p','h3']))\n",
    "    content = '\\n'.join([c.text for c in content])\n",
    "    \n",
    "    tokenizer = nltk.RegexpTokenizer(r\"\\w+\")\n",
    "    token = tokenizer.tokenize(content)\n",
    "    stop_words = list(get_stop_words('en'))         \n",
    "    nltk_words = list(stopwords.words('english')) \n",
    "    stop_words.extend(nltk_words)\n",
    "    keywords = [word.lower() for word in token if not word.lower() in stop_words]\n",
    "    keywords = [word.lower() for word in keywords if not word in chara]\n",
    "    key_df = pd.DataFrame(keywords, columns = ['word'])\n",
    "    key_df = key_df['word'].value_counts()\n",
    "    key_df = key_df.to_frame()\n",
    "    \n",
    "    return key_df\n"
   ]
  },
  {
   "cell_type": "code",
   "execution_count": 49,
   "metadata": {},
   "outputs": [],
   "source": [
    "much_ado_1 = sparknotes_themes(\"https://www.sparknotes.com/shakespeare/muchado/themes/\",\n",
    "                     ['hero', 'claudio', 'beatrice', 'leonato', 'don', 'pedro', 'john','benedick', 'margaret', \n",
    "                      'borachio', 'conrad', 'dogberry', 'verges', 'antonio', 'balthasar', 'ursula', 'much', 'nothing',\n",
    "                      'william', 'shakespeare'])\n",
    "much_ado_1['title'] = 'Much Ado About Nothing'\n",
    "\n",
    "much_ado_2 = sparknotes_themes(\"https://www.sparknotes.com/shakespeare/muchado/themes/page/2/\",\n",
    "                     ['hero', 'claudio', 'beatrice', 'leonato', 'don', 'pedro', 'john','benedick', 'margaret', \n",
    "                      'borachio', 'conrad', 'dogberry', 'verges', 'antonio', 'balthasar', 'ursula', 'much', 'nothing',\n",
    "                      'william', 'shakespeare'])\n",
    "much_ado_2['title'] = 'Much Ado About Nothing'"
   ]
  },
  {
   "cell_type": "code",
   "execution_count": 50,
   "metadata": {},
   "outputs": [],
   "source": [
    "pride = sparknotes_themes2('https://www.sparknotes.com/lit/pride/themes/',\n",
    "                     ['elizabeth', 'bennet', 'fitzwilliam', 'darcy', 'jane', 'mary', 'catherine', 'kitty',\n",
    "                     'lydia', 'charles', 'caroline', 'bingley', 'hurst', 'wickham', 'mr', 'mrs', 'de', 'bourgh',\n",
    "                     'pride', 'prejudice', 'jane', 'austen'])\n",
    "pride['title'] = 'Pride and Prejudice'"
   ]
  },
  {
   "cell_type": "code",
   "execution_count": 51,
   "metadata": {},
   "outputs": [],
   "source": [
    "gatsby = sparknotes_themes2('https://www.sparknotes.com/lit/gatsby/themes/',\n",
    "                     ['jay', 'gatsby', 'nick', 'tom', 'daisy', 'wilson', 'jordan', 'scott', 'fitzgerald',\n",
    "                     'dan', 'cody', 'henry', 'gatz', 'ewing', 'klipspringer', 'michaelis', 'catherine',\n",
    "                     'wilson', 'george', 'myrtle', 'baker', 'pammy', 'buchanan', 'carraway'])\n",
    "gatsby['title'] = 'The Great Gatsby'"
   ]
  },
  {
   "cell_type": "code",
   "execution_count": 52,
   "metadata": {},
   "outputs": [],
   "source": [
    "scarlet_letter = sparknotes_themes2('https://www.sparknotes.com/lit/scarlet/themes/',\n",
    "                     ['hester', 'dimmesdale', 'pearl', 'chillingworth', 'letter', 'scarlet', 'nathaniel',\n",
    "                     'hawthorne', 'chillingworth', 'roger', 'governor', 'bellingham', 'mistress', 'hibbins',\n",
    "                     'john', 'wilson'])\n",
    "scarlet_letter['title'] = 'The Scarlet Letter'"
   ]
  },
  {
   "cell_type": "code",
   "execution_count": 53,
   "metadata": {},
   "outputs": [],
   "source": [
    "romeo_juliet = sparknotes_themes2('https://www.sparknotes.com/shakespeare/romeojuliet/themes/',\n",
    "                     ['romeo', 'juliet', 'william', 'shakespeare', 'capulet', 'montague', 'mercutio', 'tybalt',\n",
    "                     'paris', 'friar', 'laurence', 'nurse', 'benvolio', 'lady', 'balthasar', 'apothecary',\n",
    "                     'escalus', 'john', 'verona', 'prince', 'peter', 'abram', 'sampson', 'gregory'])\n",
    "romeo_juliet['title'] = 'Romeo and Juliet'"
   ]
  },
  {
   "cell_type": "code",
   "execution_count": 54,
   "metadata": {},
   "outputs": [],
   "source": [
    "macbeth = sparknotes_themes2('https://www.sparknotes.com/shakespeare/macbeth/themes/',\n",
    "                     ['macbeth', 'william', 'shakespeare', 'lady', 'banquo', 'duncan', 'fleance', 'donalbain',\n",
    "                     'malcolm', 'macduff', 'lennox', 'ross', 'menteth', 'angus', 'caithness', 'witches'])\n",
    "macbeth['title'] = 'Macbeth'"
   ]
  },
  {
   "cell_type": "code",
   "execution_count": 55,
   "metadata": {},
   "outputs": [],
   "source": [
    "emma = sparknotes_themes('https://www.sparknotes.com/lit/emma/themes/',\n",
    "                     ['emma', 'woodhouse', 'henry', 'george', 'knightley', 'frank', 'mr', 'jane', 'philip','elton',\n",
    "                     'anne', 'taylor', 'miss', 'mrs', 'harriet', 'churchill', 'weston', 'austen'])\n",
    "emma['title'] = 'Emma'"
   ]
  },
  {
   "cell_type": "code",
   "execution_count": 56,
   "metadata": {},
   "outputs": [],
   "source": [
    "jane_eyre_1 = sparknotes_themes('https://www.sparknotes.com/lit/janeeyre/themes/',\n",
    "                     ['jane', 'eyre','edward', 'fairfax','rochester','sarah', 'reed', 'john', 'eliza', 'thornfield',\n",
    "                     'charlotte', 'Brontë'])\n",
    "jane_eyre_1['title'] = 'Jane Eyre'\n",
    "\n",
    "jane_eyre_2 = sparknotes_themes('https://www.sparknotes.com/lit/janeeyre/themes/page/2/',\n",
    "                     ['jane', 'eyre','edward', 'fairfax','rochester','sarah', 'reed', 'john', 'eliza', 'thornfield',\n",
    "                     'charlotte', 'Brontë'])\n",
    "jane_eyre_2['title'] = 'Jane Eyre'\n",
    "\n",
    "jane_eyre_3 = sparknotes_themes('https://www.sparknotes.com/lit/janeeyre/themes/page/3/',\n",
    "                     ['jane', 'eyre','edward', 'fairfax','rochester','sarah', 'reed', 'john', 'eliza', 'thornfield',\n",
    "                     'charlotte', 'Brontë'])\n",
    "jane_eyre_3['title'] = 'Jane Eyre'"
   ]
  },
  {
   "cell_type": "code",
   "execution_count": 57,
   "metadata": {},
   "outputs": [],
   "source": [
    "taming = sparknotes_themes('https://www.sparknotes.com/shakespeare/shrew/themes/',\n",
    "                     ['christopher', 'sly', 'petruchio', 'katherine', 'kate', 'lucentio', 'bianca', 'taming', 'shrew',\n",
    "                     'hortensio', 'baptista', 'lord', 'tranio', 'minola', 'william', 'shakespeare'])\n",
    "taming['title'] = 'The Taming of the Shrew'"
   ]
  },
  {
   "cell_type": "code",
   "execution_count": 58,
   "metadata": {},
   "outputs": [],
   "source": [
    "like_it = sparknotes_themes('https://www.sparknotes.com/shakespeare/asyoulikeit/themes/',\n",
    "                     ['orlando', 'rosalind', 'frederick', 'oliver', 'forest', 'arden', 'celia', 'william', 'shakespeare'])\n",
    "like_it['title'] = 'As You Like It'"
   ]
  },
  {
   "cell_type": "code",
   "execution_count": 59,
   "metadata": {},
   "outputs": [],
   "source": [
    "earnest = sparknotes_themes('https://www.sparknotes.com/lit/earnest/themes/',\n",
    "                     ['john', 'worthing', 'jack', 'algernon', 'moncrieff', 'cecily', 'ernest', 'bracknell', 'earnest',\n",
    "                     'lady', 'miss', 'algy', 'gwendolen', 'oscar', 'wilde'])\n",
    "earnest['title'] = 'The Importance of Being Earnest'"
   ]
  },
  {
   "cell_type": "code",
   "execution_count": 60,
   "metadata": {},
   "outputs": [],
   "source": [
    "awakening = sparknotes_themes2('https://www.sparknotes.com/lit/awakening/themes/',\n",
    "                     ['edna', 'robert', 'léonce', 'ratignolle', 'mademoiselle', 'awakening', 'kate', 'chopin'])\n",
    "awakening['title'] = 'The Awakening'"
   ]
  },
  {
   "cell_type": "code",
   "execution_count": 61,
   "metadata": {},
   "outputs": [],
   "source": [
    "othello = sparknotes_themes2('https://www.sparknotes.com/shakespeare/othello/themes/',\n",
    "                     ['othello', 'iago', 'desdemona', 'cassio', 'roderigo', 'brabantio', 'emilia', 'duke', 'venice',\n",
    "                     'cyprus', 'william', 'shakespeare'])\n",
    "othello['title'] = 'Othello'"
   ]
  },
  {
   "cell_type": "code",
   "execution_count": 62,
   "metadata": {},
   "outputs": [],
   "source": [
    "twelfth_night_1 = sparknotes_themes('https://www.sparknotes.com/shakespeare/twelfthnight/themes/',\n",
    "                     ['orsino', 'viola', 'olivia', 'sir', 'toby', 'maria', 'sebastian', 'malvolio', 'duke', \n",
    "                      'countess', 'william', 'shakespeare'])\n",
    "twelfth_night_1['title'] = 'Twelfth Night'\n",
    "\n",
    "twelfth_night_2 = sparknotes_themes('https://www.sparknotes.com/shakespeare/twelfthnight/themes/page/2/',\n",
    "                     ['orsino', 'viola', 'olivia', 'sir', 'toby', 'maria', 'sebastian', 'malvolio', 'duke', \n",
    "                      'countess', 'william', 'shakespeare'])\n",
    "twelfth_night_2['title'] = 'Twelfth Night'"
   ]
  },
  {
   "cell_type": "code",
   "execution_count": 63,
   "metadata": {},
   "outputs": [],
   "source": [
    "life_pi = sparknotes_themes('https://www.sparknotes.com/lit/lifeofpi/themes/',\n",
    "                     ['mr.', 'adirubasamy', 'pi', 'yann', 'martel', 'piscine', 'molitor', 'patel', 'thirsty',\n",
    "                      'richard', 'parker'])\n",
    "life_pi['title'] = 'Life of Pi'"
   ]
  },
  {
   "cell_type": "code",
   "execution_count": 64,
   "metadata": {},
   "outputs": [],
   "source": [
    "kite_runner = sparknotes_themes2('https://www.sparknotes.com/lit/the-kite-runner/themes/',\n",
    "                     ['amir', 'baba', 'hassan', 'sohrab', 'rahim', 'assef', 'soraya', 'ali', 'general', \n",
    "                     'sahib', 'farid', 'khala', 'taheri', 'afghanistan', 'kite', 'runner', 'kabul'])\n",
    "kite_runner['title'] = 'The Kite Runner'"
   ]
  },
  {
   "cell_type": "code",
   "execution_count": 65,
   "metadata": {},
   "outputs": [],
   "source": [
    "handmaid_tale = sparknotes_themes2('https://www.sparknotes.com/lit/handmaid/themes/',\n",
    "                     ['offred', 'moira', 'serena', 'joy', 'commander', 'nick', 'aunt', 'lydia', 'luke',\n",
    "                     'ofglen', 'rita', 'cora', 'gilead', 'tale', 'handmaids', 'margaret', 'atwood', 'pieixoto', \n",
    "                      'narrator'])\n",
    "handmaid_tale['title'] = \"The Handmaid's Tale\""
   ]
  },
  {
   "cell_type": "code",
   "execution_count": 66,
   "metadata": {},
   "outputs": [],
   "source": [
    "beloved = sparknotes_themes2('https://www.sparknotes.com/lit/beloved/themes/',\n",
    "                     ['sethe', 'beloved', 'paul', 'toni', 'morrison', 'denver', 'halle', 'suggs', 'amy', 'vashti'])\n",
    "beloved['title'] = \"Beloved\""
   ]
  },
  {
   "cell_type": "code",
   "execution_count": 67,
   "metadata": {},
   "outputs": [],
   "source": [
    "spark_themes_df = [much_ado_1, much_ado_2, pride, gatsby, scarlet_letter, romeo_juliet, macbeth, emma, jane_eyre_1, \n",
    "                   jane_eyre_2, jane_eyre_3, taming, like_it, earnest, awakening, othello, twelfth_night_1, twelfth_night_2,\n",
    "                   life_pi, kite_runner, handmaid_tale, beloved]\n",
    "keys_df = pd.DataFrame()\n",
    "for df in spark_themes_df:\n",
    "    keys_df = keys_df.append(df)"
   ]
  },
  {
   "cell_type": "code",
   "execution_count": 68,
   "metadata": {},
   "outputs": [],
   "source": [
    "keys_df.to_csv(\"sparknotes_themes.csv\")"
   ]
  },
  {
   "cell_type": "code",
   "execution_count": 69,
   "metadata": {},
   "outputs": [
    {
     "data": {
      "text/plain": [
       "array(['Much Ado About Nothing', 'Pride and Prejudice',\n",
       "       'The Great Gatsby', 'The Scarlet Letter', 'Romeo and Juliet',\n",
       "       'Macbeth', 'Emma', 'Jane Eyre', 'The Taming of the Shrew',\n",
       "       'As You Like It', 'The Importance of Being Earnest',\n",
       "       'The Awakening', 'Othello', 'Twelfth Night', 'Life of Pi',\n",
       "       'The Kite Runner', \"The Handmaid's Tale\", 'Beloved'], dtype=object)"
      ]
     },
     "execution_count": 69,
     "metadata": {},
     "output_type": "execute_result"
    }
   ],
   "source": [
    "keys_df.title.unique()"
   ]
  },
  {
   "cell_type": "code",
   "execution_count": null,
   "metadata": {},
   "outputs": [],
   "source": []
  }
 ],
 "metadata": {
  "kernelspec": {
   "display_name": "Python 3",
   "language": "python",
   "name": "python3"
  },
  "language_info": {
   "codemirror_mode": {
    "name": "ipython",
    "version": 3
   },
   "file_extension": ".py",
   "mimetype": "text/x-python",
   "name": "python",
   "nbconvert_exporter": "python",
   "pygments_lexer": "ipython3",
   "version": "3.7.4"
  }
 },
 "nbformat": 4,
 "nbformat_minor": 2
}
