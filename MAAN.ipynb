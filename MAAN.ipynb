{
 "cells": [
  {
   "cell_type": "code",
   "execution_count": 50,
   "metadata": {},
   "outputs": [],
   "source": [
    "import requests\n",
    "import pandas as pd\n",
    "from urllib.request import urlopen\n",
    "from bs4 import BeautifulSoup\n",
    "import nltk\n",
    "from nltk.corpus import stopwords\n",
    "from stop_words import get_stop_words"
   ]
  },
  {
   "cell_type": "code",
   "execution_count": 69,
   "metadata": {},
   "outputs": [],
   "source": [
    "chara = ['hero', 'claudio', 'beatrice', 'leonato', 'don', 'pedro', 'john','benedick', 'margaret', \n",
    "         'borachio', 'conrad', 'dogberry', 'verges', 'antonio', 'balthasar', 'ursula', 'much', 'nothing' ]"
   ]
  },
  {
   "cell_type": "code",
   "execution_count": 70,
   "metadata": {},
   "outputs": [],
   "source": [
    "def key_df(content, chara): \n",
    "    tokenizer = nltk.RegexpTokenizer(r\"\\w+\")\n",
    "    token = tokenizer.tokenize(content)\n",
    "    stop_words = list(get_stop_words('en'))         \n",
    "    nltk_words = list(stopwords.words('english')) \n",
    "    stop_words.extend(nltk_words)\n",
    "    keywords = [word.lower() for word in token if not word.lower() in stop_words]\n",
    "    keywords = [word.lower() for word in keywords if not word in chara]\n",
    "    key_df = pd.DataFrame(keywords, columns = ['word'])\n",
    "    key_df = key_df['word'].value_counts()\n",
    "    key_df = key_df.to_frame()\n",
    "    \n",
    "    return key_df"
   ]
  },
  {
   "cell_type": "code",
   "execution_count": 71,
   "metadata": {},
   "outputs": [],
   "source": [
    "def sparknotes(url):\n",
    "    html = urlopen(url)\n",
    "    bs = BeautifulSoup(html.read(), 'html.parser')\n",
    "    title = bs.find('h1', {'class':\"TitleHeader_title tag--titleTitle-notLink\"}).get_text()\n",
    "    content = bs.find('div', {'class':\"studyGuideText hack-to-hide-first-h2\"}).get_text()\n",
    "    \n",
    "    return content\n",
    "\n",
    "url = 'https://www.sparknotes.com/shakespeare/muchado/summary/'\n",
    "spark = sparknotes(url)"
   ]
  },
  {
   "cell_type": "code",
   "execution_count": 72,
   "metadata": {},
   "outputs": [],
   "source": [
    "def shmoop(url):\n",
    "    html = urlopen(url)\n",
    "    bs = BeautifulSoup(html.read(), 'html.parser')\n",
    "    title = bs.find('h2', {'class':\"title\"}).get_text()\n",
    "    content = bs.find('div', {'data-class':\"SHPlotOverviewSection\"}).get_text()\n",
    "    \n",
    "    return content\n",
    "\n",
    "url = 'https://www.shmoop.com/study-guides/literature/much-ado-about-nothing/summary'\n",
    "shmoop = shmoop(url)"
   ]
  },
  {
   "cell_type": "code",
   "execution_count": 73,
   "metadata": {},
   "outputs": [],
   "source": [
    "def cliffs(url):\n",
    "    html = urlopen(url)\n",
    "    bs = BeautifulSoup(html.read(), 'html.parser')\n",
    "    title = bs.find('h1').text\n",
    "    content = bs.find_all(\"p\",{\"class\":\"litNoteText\"})\n",
    "    content = '\\n'.join([c.text for c in content])\n",
    "    \n",
    "    return content\n",
    "\n",
    "url = 'https://www.cliffsnotes.com/literature/m/much-ado-about-nothing/play-summary'\n",
    "cliffs = cliffs(url)"
   ]
  },
  {
   "cell_type": "code",
   "execution_count": 74,
   "metadata": {},
   "outputs": [],
   "source": [
    "def sparknotes_themes(url):\n",
    "    html = urlopen(url)\n",
    "    bs = BeautifulSoup(html.read(), 'html.parser')\n",
    "    content = bs.findAll('div',attrs={\"class\":\"studyGuideText hack-to-hide-first-h2\"})\n",
    "    for x in content:\n",
    "        content = (x.find_all(['p','h3']))\n",
    "    content = '\\n'.join([c.text for c in content])\n",
    "    \n",
    "    return content\n",
    "\n",
    "url_1 = \"https://www.sparknotes.com/shakespeare/muchado/themes/\"\n",
    "url_2 = \"https://www.sparknotes.com/shakespeare/muchado/themes/page/2/\"\n",
    "spark_theme_1 = sparknotes_themes(url_1)\n",
    "spark_theme_2 = sparknotes_themes(url_2)"
   ]
  },
  {
   "cell_type": "code",
   "execution_count": 75,
   "metadata": {},
   "outputs": [],
   "source": [
    "def shmoop_themes(url):\n",
    "    html = urlopen(url)\n",
    "    bs = BeautifulSoup(html.read(), 'html.parser')\n",
    "    content = bs.find_all(\"div\", {\"data-element\":\"collapse_target\"})\n",
    "    for x in content:\n",
    "        content = (x.find_all(\"p\"))\n",
    "    content = '\\n'.join([c.text for c in content])\n",
    "    \n",
    "    return content \n",
    "\n",
    "url_1 = \"https://www.shmoop.com/study-guides/literature/much-ado-about-nothing/themes/marriage\"\n",
    "url_2 = \"https://www.shmoop.com/study-guides/literature/much-ado-about-nothing/themes/lies-and-deceit\"\n",
    "url_3 = \"https://www.shmoop.com/study-guides/literature/much-ado-about-nothing/themes/language-and-communication\"\n",
    "url_4 = \"https://www.shmoop.com/study-guides/literature/much-ado-about-nothing/themes/love\"\n",
    "url_5 = \"https://www.shmoop.com/study-guides/literature/much-ado-about-nothing/themes/respect-and-reputation\"\n",
    "url_6 = \"https://www.shmoop.com/study-guides/literature/much-ado-about-nothing/themes/transformation\"\n",
    "url_7 = \"https://www.shmoop.com/study-guides/literature/much-ado-about-nothing/themes/gender\"\n",
    "url_8 = \"https://www.shmoop.com/study-guides/literature/much-ado-about-nothing/themes/pride\"\n",
    "url_9 = \"https://www.shmoop.com/study-guides/literature/much-ado-about-nothing/themes/maturity\"\n",
    "shmoop_theme_1 = shmoop_themes(url_1)\n",
    "shmoop_theme_2 = shmoop_themes(url_2)\n",
    "shmoop_theme_3 = shmoop_themes(url_3)\n",
    "shmoop_theme_4 = shmoop_themes(url_4)\n",
    "shmoop_theme_5 = shmoop_themes(url_5)\n",
    "shmoop_theme_6 = shmoop_themes(url_6)\n",
    "shmoop_theme_7 = shmoop_themes(url_7)\n",
    "shmoop_theme_8 = shmoop_themes(url_8)\n",
    "shmoop_theme_9 = shmoop_themes(url_9)"
   ]
  },
  {
   "cell_type": "code",
   "execution_count": 76,
   "metadata": {},
   "outputs": [],
   "source": [
    "def utah(url):\n",
    "    html = urlopen(url)\n",
    "    bs = BeautifulSoup(html.read(), 'html.parser')\n",
    "    content = bs.find_all(\"div\", {\"class\":\"sqs-block-content\"})\n",
    "    for x in content:\n",
    "        content = (x.find_all(\"p\"))\n",
    "    content = '\\n'.join([c.text for c in content])\n",
    "    \n",
    "    return content\n",
    "\n",
    "url = \"https://www.bard.org/study-guides/synopsis-much-ado-about-nothing\"\n",
    "utah = utah(url)"
   ]
  },
  {
   "cell_type": "code",
   "execution_count": 77,
   "metadata": {},
   "outputs": [],
   "source": [
    "contents = [spark, shmoop, cliffs, spark_theme_1, spark_theme_2, \n",
    "            shmoop_theme_1, shmoop_theme_2, shmoop_theme_3, shmoop_theme_4, shmoop_theme_5, \n",
    "            shmoop_theme_6, shmoop_theme_7, shmoop_theme_8, shmoop_theme_9, utah]\n",
    "\n",
    "keys_df = pd.DataFrame()\n",
    "for content in contents:\n",
    "    df = key_df(content, chara)\n",
    "    keys_df = keys_df.append(df)\n",
    "\n",
    "    \n"
   ]
  },
  {
   "cell_type": "code",
   "execution_count": 79,
   "metadata": {},
   "outputs": [],
   "source": [
    "keys_df = keys_df.groupby([keys_df.index]).sum().sort_values(by = 'word', ascending = False)"
   ]
  },
  {
   "cell_type": "code",
   "execution_count": 82,
   "metadata": {},
   "outputs": [],
   "source": [
    "keys_df.to_csv(\"maan.csv\")"
   ]
  },
  {
   "cell_type": "code",
   "execution_count": null,
   "metadata": {},
   "outputs": [],
   "source": []
  }
 ],
 "metadata": {
  "kernelspec": {
   "display_name": "Python 3",
   "language": "python",
   "name": "python3"
  },
  "language_info": {
   "codemirror_mode": {
    "name": "ipython",
    "version": 3
   },
   "file_extension": ".py",
   "mimetype": "text/x-python",
   "name": "python",
   "nbconvert_exporter": "python",
   "pygments_lexer": "ipython3",
   "version": "3.7.4"
  }
 },
 "nbformat": 4,
 "nbformat_minor": 2
}
