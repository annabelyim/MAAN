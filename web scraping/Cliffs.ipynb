{
 "cells": [
  {
   "cell_type": "code",
   "execution_count": 1,
   "metadata": {},
   "outputs": [],
   "source": [
    "import requests\n",
    "import pandas as pd\n",
    "from urllib.request import urlopen\n",
    "from bs4 import BeautifulSoup\n",
    "import nltk\n",
    "from nltk.corpus import stopwords\n",
    "from stop_words import get_stop_words"
   ]
  },
  {
   "cell_type": "code",
   "execution_count": 2,
   "metadata": {},
   "outputs": [],
   "source": [
    "def cliffs_df(url, chara): \n",
    "    html = urlopen(url)\n",
    "    bs = BeautifulSoup(html.read(), 'html.parser')\n",
    "    title = bs.find('h1').text\n",
    "    content = bs.find_all(\"p\",{\"class\":\"litNoteText\"})\n",
    "    content = '\\n'.join([c.text for c in content])\n",
    "    \n",
    "    tokenizer = nltk.RegexpTokenizer(r\"\\w+\")\n",
    "    token = tokenizer.tokenize(content)\n",
    "    stop_words = list(get_stop_words('en'))         \n",
    "    nltk_words = list(stopwords.words('english')) \n",
    "    stop_words.extend(nltk_words)\n",
    "    keywords = [word.lower() for word in token if not word.lower() in stop_words]\n",
    "    keywords = [word.lower() for word in keywords if not word in chara]\n",
    "    key_df = pd.DataFrame(keywords, columns = ['word'])\n",
    "    key_df = key_df['word'].value_counts()\n",
    "    key_df = key_df.to_frame()\n",
    "    key_df['title'] = title\n",
    "    \n",
    "    return key_df"
   ]
  },
  {
   "cell_type": "code",
   "execution_count": 3,
   "metadata": {},
   "outputs": [],
   "source": [
    "def cliffs_df2(url, chara): \n",
    "    html = urlopen(url)\n",
    "    bs = BeautifulSoup(html.read(), 'html.parser')\n",
    "    title = bs.find('h1').text\n",
    "    content = bs.find_all(\"p\", {\"class\":\"litNoteText\"})\n",
    "    content = '\\n'.join([c.text for c in content])\n",
    "    \n",
    "    tokenizer = nltk.RegexpTokenizer(r\"\\w+\")\n",
    "    token = tokenizer.tokenize(content)\n",
    "    stop_words = list(get_stop_words('en'))         \n",
    "    nltk_words = list(stopwords.words('english')) \n",
    "    stop_words.extend(nltk_words)\n",
    "    keywords = [word.lower() for word in token if not word.lower() in stop_words]\n",
    "    keywords = [word.lower() for word in keywords if not word in chara]\n",
    "    key_df = pd.DataFrame(keywords, columns = ['word'])\n",
    "    key_df = key_df['word'].value_counts()\n",
    "    key_df = key_df.to_frame()\n",
    "    key_df['title'] = title\n",
    "    \n",
    "    return key_df"
   ]
  },
  {
   "cell_type": "code",
   "execution_count": 4,
   "metadata": {},
   "outputs": [],
   "source": [
    "def cliffs_df3(url, chara): \n",
    "    html = urlopen(url)\n",
    "    bs = BeautifulSoup(html.read(), 'html.parser')\n",
    "    title = bs.find('h1').text\n",
    "    content = bs.find_all(\"p\", {\"class\":\"MsoNormal\"})\n",
    "    content = '\\n'.join([c.text for c in content])\n",
    "    \n",
    "    tokenizer = nltk.RegexpTokenizer(r\"\\w+\")\n",
    "    token = tokenizer.tokenize(content)\n",
    "    stop_words = list(get_stop_words('en'))         \n",
    "    nltk_words = list(stopwords.words('english')) \n",
    "    stop_words.extend(nltk_words)\n",
    "    keywords = [word.lower() for word in token if not word.lower() in stop_words]\n",
    "    keywords = [word.lower() for word in keywords if not word in chara]\n",
    "    key_df = pd.DataFrame(keywords, columns = ['word'])\n",
    "    key_df = key_df['word'].value_counts()\n",
    "    key_df = key_df.to_frame()\n",
    "    key_df['title'] = title\n",
    "    \n",
    "    return key_df"
   ]
  },
  {
   "cell_type": "code",
   "execution_count": 5,
   "metadata": {},
   "outputs": [],
   "source": [
    "much_ado = cliffs_df('https://www.cliffsnotes.com/literature/m/much-ado-about-nothing/play-summary',\n",
    "                     ['hero', 'claudio', 'beatrice', 'leonato', 'don', 'pedro', 'john','benedick', 'margaret', \n",
    "                      'borachio', 'conrad', 'dogberry', 'verges', 'antonio', 'balthasar', 'ursula', 'much', 'nothing',\n",
    "                      'william', 'shakespeare'])"
   ]
  },
  {
   "cell_type": "code",
   "execution_count": 6,
   "metadata": {},
   "outputs": [],
   "source": [
    "pride = cliffs_df('https://www.cliffsnotes.com/literature/p/pride-and-prejudice/book-summary',\n",
    "                     ['elizabeth', 'bennet', 'fitzwilliam', 'darcy', 'jane', 'mary', 'catherine', 'kitty',\n",
    "                     'lydia', 'charles', 'caroline', 'bingley', 'hurst', 'wickham', 'mr', 'mrs', 'de', 'bourgh',\n",
    "                     'pride', 'prejudice', 'jane', 'austen'])"
   ]
  },
  {
   "cell_type": "code",
   "execution_count": 7,
   "metadata": {},
   "outputs": [],
   "source": [
    "gatsby = cliffs_df('https://www.cliffsnotes.com/literature/g/the-great-gatsby/book-summary',\n",
    "                     ['jay', 'gatsby', 'nick', 'tom', 'daisy', 'wilson', 'jordan', 'scott', 'fitzgerald',\n",
    "                     'dan', 'cody', 'henry', 'gatz', 'ewing', 'klipspringer', 'michaelis', 'catherine',\n",
    "                     'wilson', 'george', 'myrtle', 'baker', 'pammy', 'buchanan', 'carraway'])"
   ]
  },
  {
   "cell_type": "code",
   "execution_count": 8,
   "metadata": {},
   "outputs": [],
   "source": [
    "scarlet_letter = cliffs_df('https://www.cliffsnotes.com/literature/s/the-scarlet-letter/book-summary',\n",
    "                     ['hester', 'dimmesdale', 'pearl', 'chillingworth', 'letter', 'scarlet', 'nathaniel',\n",
    "                     'hawthorne', 'chillingworth', 'roger', 'governor', 'bellingham', 'mistress', 'hibbins',\n",
    "                     'john', 'wilson'])"
   ]
  },
  {
   "cell_type": "code",
   "execution_count": 9,
   "metadata": {},
   "outputs": [],
   "source": [
    "romeo_juliet = cliffs_df('https://www.cliffsnotes.com/literature/r/romeo-and-juliet/play-summary',\n",
    "                     ['romeo', 'juliet', 'william', 'shakespeare', 'capulet', 'montague', 'mercutio', 'tybalt',\n",
    "                     'paris', 'friar', 'laurence', 'nurse', 'benvolio', 'lady', 'balthasar', 'apothecary',\n",
    "                     'escalus', 'john', 'verona', 'prince', 'peter', 'abram', 'sampson', 'gregory'])"
   ]
  },
  {
   "cell_type": "code",
   "execution_count": 10,
   "metadata": {},
   "outputs": [],
   "source": [
    "macbeth = cliffs_df('https://www.cliffsnotes.com/literature/m/macbeth/play-summary',\n",
    "                     ['macbeth', 'william', 'shakespeare', 'lady', 'banquo', 'duncan', 'fleance', 'donalbain',\n",
    "                     'malcolm', 'macduff', 'lennox', 'ross', 'menteth', 'angus', 'caithness', 'witches'])"
   ]
  },
  {
   "cell_type": "code",
   "execution_count": 11,
   "metadata": {},
   "outputs": [],
   "source": [
    "emma = cliffs_df('https://www.cliffsnotes.com/literature/e/emma/book-summary',\n",
    "                     ['emma', 'woodhouse', 'henry', 'george', 'knightley', 'frank', 'mr', 'jane', 'philip','elton',\n",
    "                     'anne', 'taylor', 'miss', 'mrs', 'harriet', 'churchill', 'weston', 'austen'])"
   ]
  },
  {
   "cell_type": "code",
   "execution_count": 12,
   "metadata": {},
   "outputs": [],
   "source": [
    "jane_eyre = cliffs_df('https://www.cliffsnotes.com/literature/j/jane-eyre/book-summary',\n",
    "                     ['jane', 'eyre','edward', 'fairfax','rochester','sarah', 'reed', 'john', 'eliza', 'thornfield',\n",
    "                     'charlotte', 'Brontë'])"
   ]
  },
  {
   "cell_type": "code",
   "execution_count": 13,
   "metadata": {},
   "outputs": [],
   "source": [
    "taming = cliffs_df('https://www.cliffsnotes.com/literature/t/the-taming-of-the-shrew/play-summary',\n",
    "                     ['christopher', 'sly', 'petruchio', 'katherine', 'kate', 'lucentio', 'bianca', 'taming', 'shrew',\n",
    "                     'hortensio', 'baptista', 'lord', 'tranio', 'minola', 'william', 'shakespeare'])"
   ]
  },
  {
   "cell_type": "code",
   "execution_count": 14,
   "metadata": {},
   "outputs": [],
   "source": [
    "like_it = cliffs_df('https://www.cliffsnotes.com/literature/a/as-you-like-it/play-summary',\n",
    "                     ['orlando', 'rosalind', 'frederick', 'oliver', 'forest', 'arden', 'celia', 'william', 'shakespeare'])"
   ]
  },
  {
   "cell_type": "code",
   "execution_count": 15,
   "metadata": {},
   "outputs": [],
   "source": [
    "earnest = cliffs_df('https://www.cliffsnotes.com/literature/i/the-importance-of-being-earnest/play-summary',\n",
    "                     ['john', 'worthing', 'jack', 'algernon', 'moncrieff', 'cecily', 'ernest', 'bracknell', 'earnest',\n",
    "                     'lady', 'miss', 'algy', 'gwendolen', 'oscar', 'wilde'])"
   ]
  },
  {
   "cell_type": "code",
   "execution_count": 16,
   "metadata": {},
   "outputs": [],
   "source": [
    "awakening = cliffs_df('https://www.cliffsnotes.com/literature/a/the-awakening/book-summary',\n",
    "                     ['edna', 'robert', 'léonce', 'ratignolle', 'mademoiselle', 'awakening', 'kate', 'chopin'])"
   ]
  },
  {
   "cell_type": "code",
   "execution_count": 17,
   "metadata": {},
   "outputs": [],
   "source": [
    "othello = cliffs_df('https://www.cliffsnotes.com/literature/o/othello/play-summary',\n",
    "                     ['othello', 'iago', 'desdemona', 'cassio', 'roderigo', 'brabantio', 'emilia', 'duke', 'venice',\n",
    "                     'cyprus', 'william', 'shakespeare'])"
   ]
  },
  {
   "cell_type": "code",
   "execution_count": 18,
   "metadata": {},
   "outputs": [],
   "source": [
    "twelfth_night = cliffs_df('https://www.cliffsnotes.com/literature/t/twelfth-night/play-summary',\n",
    "                     ['orsino', 'viola', 'olivia', 'sir', 'toby', 'maria', 'sebastian', 'malvolio', 'duke', \n",
    "                      'countess', 'william', 'shakespeare'])"
   ]
  },
  {
   "cell_type": "code",
   "execution_count": 19,
   "metadata": {},
   "outputs": [],
   "source": [
    "life_pi = cliffs_df3('https://www.cliffsnotes.com/literature/l/life-of-pi/book-summary',\n",
    "                     ['mr.', 'adirubasamy', 'pi', 'yann', 'martel', 'piscine', 'molitor', 'patel', 'thirsty',\n",
    "                      'richard', 'parker'])"
   ]
  },
  {
   "cell_type": "code",
   "execution_count": 20,
   "metadata": {},
   "outputs": [],
   "source": [
    "kite_runner = cliffs_df2('https://www.cliffsnotes.com/literature/k/the-kite-runner/book-summary',\n",
    "                     ['amir', 'baba', 'hassan', 'sohrab', 'rahim', 'assef', 'soraya', 'ali', 'general', \n",
    "                     'sahib', 'farid', 'khala', 'taheri', 'afghanistan', 'kite', 'runner', 'kabul'])"
   ]
  },
  {
   "cell_type": "code",
   "execution_count": 21,
   "metadata": {},
   "outputs": [],
   "source": [
    "handmaid_tale = cliffs_df('https://www.cliffsnotes.com/literature/h/the-handmaids-tale/book-summary',\n",
    "                     ['offred', 'moira', 'serena', 'joy', 'commander', 'nick', 'aunt', 'lydia', 'luke',\n",
    "                     'ofglen', 'rita', 'cora', 'gilead', 'tale', 'handmaids', 'margaret', 'atwood', 'pieixoto', \n",
    "                      'narrator'])"
   ]
  },
  {
   "cell_type": "code",
   "execution_count": 22,
   "metadata": {},
   "outputs": [],
   "source": [
    "beloved = cliffs_df('https://www.cliffsnotes.com/literature/b/beloved/book-summary',\n",
    "                     ['sethe', 'beloved', 'paul', 'toni', 'morrison', 'denver', 'halle', 'suggs', 'amy', 'vashti'])"
   ]
  },
  {
   "cell_type": "code",
   "execution_count": 46,
   "metadata": {},
   "outputs": [],
   "source": [
    "cliffs_df = [much_ado, pride, gatsby, scarlet_letter, romeo_juliet, macbeth, emma, jane_eyre, taming, like_it,\n",
    "            earnest, awakening, othello, twelfth_night, life_pi, kite_runner, handmaid_tale, beloved]\n",
    "keys_df = pd.DataFrame()\n",
    "for df in cliffs_df:\n",
    "    keys_df = keys_df.append(df)"
   ]
  },
  {
   "cell_type": "code",
   "execution_count": 47,
   "metadata": {},
   "outputs": [],
   "source": [
    "keys_df = keys_df.groupby([keys_df.index, keys_df.title]).sum().sort_values(by = 'word', ascending = False)"
   ]
  },
  {
   "cell_type": "code",
   "execution_count": 48,
   "metadata": {},
   "outputs": [],
   "source": [
    "keys_df.to_csv(\"cliffs.csv\")"
   ]
  },
  {
   "cell_type": "code",
   "execution_count": null,
   "metadata": {},
   "outputs": [],
   "source": []
  }
 ],
 "metadata": {
  "kernelspec": {
   "display_name": "Python 3",
   "language": "python",
   "name": "python3"
  },
  "language_info": {
   "codemirror_mode": {
    "name": "ipython",
    "version": 3
   },
   "file_extension": ".py",
   "mimetype": "text/x-python",
   "name": "python",
   "nbconvert_exporter": "python",
   "pygments_lexer": "ipython3",
   "version": "3.7.4"
  }
 },
 "nbformat": 4,
 "nbformat_minor": 2
}
