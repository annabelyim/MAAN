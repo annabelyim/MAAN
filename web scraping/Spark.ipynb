{
 "cells": [
  {
   "cell_type": "code",
   "execution_count": 1,
   "metadata": {},
   "outputs": [],
   "source": [
    "import requests\n",
    "import pandas as pd\n",
    "from urllib.request import urlopen\n",
    "from bs4 import BeautifulSoup\n",
    "import nltk\n",
    "from nltk.corpus import stopwords\n",
    "from stop_words import get_stop_words"
   ]
  },
  {
   "cell_type": "code",
   "execution_count": 2,
   "metadata": {},
   "outputs": [],
   "source": [
    "def sparknotes_df(url, chara):\n",
    "    html = urlopen(url)\n",
    "    bs = BeautifulSoup(html.read(), 'html.parser')\n",
    "    content = bs.find('div', {'class':\"studyGuideText hack-to-hide-first-h2\"}).get_text()\n",
    "    \n",
    "    tokenizer = nltk.RegexpTokenizer(r\"\\w+\")\n",
    "    token = tokenizer.tokenize(content)\n",
    "    stop_words = list(get_stop_words('en'))         \n",
    "    nltk_words = list(stopwords.words('english')) \n",
    "    stop_words.extend(nltk_words)\n",
    "    keywords = [word.lower() for word in token if not word.lower() in stop_words]\n",
    "    keywords = [word.lower() for word in keywords if not word in chara]\n",
    "    key_df = pd.DataFrame(keywords, columns = ['word'])\n",
    "    key_df = key_df['word'].value_counts()\n",
    "    key_df = key_df.to_frame()\n",
    "    \n",
    "    return key_df"
   ]
  },
  {
   "cell_type": "code",
   "execution_count": 3,
   "metadata": {},
   "outputs": [],
   "source": [
    "def sparknotes_df2(url, chara):\n",
    "    html = urlopen(url)\n",
    "    bs = BeautifulSoup(html.read(), 'html.parser')\n",
    "    content = bs.find('div', {'class':\"mainTextContent main-container\"}).get_text()\n",
    "    \n",
    "    tokenizer = nltk.RegexpTokenizer(r\"\\w+\")\n",
    "    token = tokenizer.tokenize(content)\n",
    "    stop_words = list(get_stop_words('en'))         \n",
    "    nltk_words = list(stopwords.words('english')) \n",
    "    stop_words.extend(nltk_words)\n",
    "    keywords = [word.lower() for word in token if not word.lower() in stop_words]\n",
    "    keywords = [word.lower() for word in keywords if not word in chara]\n",
    "    key_df = pd.DataFrame(keywords, columns = ['word'])\n",
    "    key_df = key_df['word'].value_counts()\n",
    "    key_df = key_df.to_frame()\n",
    "    \n",
    "    return key_df"
   ]
  },
  {
   "cell_type": "code",
   "execution_count": 4,
   "metadata": {},
   "outputs": [],
   "source": [
    "much_ado = sparknotes_df('https://www.sparknotes.com/shakespeare/muchado/summary/', \n",
    "                     ['hero', 'claudio', 'beatrice', 'leonato', 'don', 'pedro', 'john','benedick', 'margaret', \n",
    "                      'borachio', 'conrad', 'dogberry', 'verges', 'antonio', 'balthasar', 'ursula', 'much', 'nothing',\n",
    "                      'william', 'shakespeare'])\n",
    "much_ado['title'] = 'Much Ado About Nothing'"
   ]
  },
  {
   "cell_type": "code",
   "execution_count": 5,
   "metadata": {},
   "outputs": [],
   "source": [
    "pride = sparknotes_df2('https://www.sparknotes.com/lit/pride/summary/',\n",
    "                     ['elizabeth', 'bennet', 'fitzwilliam', 'darcy', 'jane', 'mary', 'catherine', 'kitty',\n",
    "                     'lydia', 'charles', 'caroline', 'bingley', 'hurst', 'wickham', 'mr', 'mrs', 'de', 'bourgh',\n",
    "                     'pride', 'prejudice', 'jane', 'austen'])\n",
    "pride['title'] = 'Pride and Prejudice'"
   ]
  },
  {
   "cell_type": "code",
   "execution_count": 6,
   "metadata": {},
   "outputs": [],
   "source": [
    "gatsby = sparknotes_df2('https://www.sparknotes.com/lit/gatsby/summary/',\n",
    "                     ['jay', 'gatsby', 'nick', 'tom', 'daisy', 'wilson', 'jordan', 'scott', 'fitzgerald',\n",
    "                     'dan', 'cody', 'henry', 'gatz', 'ewing', 'klipspringer', 'michaelis', 'catherine',\n",
    "                     'wilson', 'george', 'myrtle', 'baker', 'pammy', 'buchanan', 'carraway'])\n",
    "gatsby['title'] = 'The Great Gatsby'"
   ]
  },
  {
   "cell_type": "code",
   "execution_count": 7,
   "metadata": {},
   "outputs": [],
   "source": [
    "scarlet_letter = sparknotes_df2('https://www.sparknotes.com/lit/scarlet/summary/',\n",
    "                     ['hester', 'dimmesdale', 'pearl', 'chillingworth', 'letter', 'scarlet', 'nathaniel',\n",
    "                     'hawthorne', 'chillingworth', 'roger', 'governor', 'bellingham', 'mistress', 'hibbins',\n",
    "                     'john', 'wilson'])\n",
    "scarlet_letter['title'] = 'The Scarlet Letter'"
   ]
  },
  {
   "cell_type": "code",
   "execution_count": 8,
   "metadata": {},
   "outputs": [],
   "source": [
    "romeo_juliet = sparknotes_df2('https://www.sparknotes.com/shakespeare/romeojuliet/summary/',\n",
    "                     ['romeo', 'juliet', 'william', 'shakespeare', 'capulet', 'montague', 'mercutio', 'tybalt',\n",
    "                     'paris', 'friar', 'laurence', 'nurse', 'benvolio', 'lady', 'balthasar', 'apothecary',\n",
    "                     'escalus', 'john', 'verona', 'prince', 'peter', 'abram', 'sampson', 'gregory'])\n",
    "romeo_juliet['title'] = 'Romeo and Juliet'"
   ]
  },
  {
   "cell_type": "code",
   "execution_count": 9,
   "metadata": {},
   "outputs": [],
   "source": [
    "macbeth = sparknotes_df2('https://www.sparknotes.com/shakespeare/macbeth/summary/',\n",
    "                     ['macbeth', 'william', 'shakespeare', 'lady', 'banquo', 'duncan', 'fleance', 'donalbain',\n",
    "                     'malcolm', 'macduff', 'lennox', 'ross', 'menteth', 'angus', 'caithness', 'witches'])\n",
    "macbeth['title'] = 'Macbeth'"
   ]
  },
  {
   "cell_type": "code",
   "execution_count": 10,
   "metadata": {},
   "outputs": [],
   "source": [
    "emma = sparknotes_df('https://www.sparknotes.com/lit/emma/summary/',\n",
    "                     ['emma', 'woodhouse', 'henry', 'george', 'knightley', 'frank', 'mr', 'jane', 'philip','elton',\n",
    "                     'anne', 'taylor', 'miss', 'mrs', 'harriet', 'churchill', 'weston', 'austen'])\n",
    "emma['title'] = 'Emma'"
   ]
  },
  {
   "cell_type": "code",
   "execution_count": 11,
   "metadata": {},
   "outputs": [],
   "source": [
    "jane_eyre = sparknotes_df('https://www.sparknotes.com/lit/janeeyre/summary/',\n",
    "                     ['jane', 'eyre','edward', 'fairfax','rochester','sarah', 'reed', 'john', 'eliza', 'thornfield',\n",
    "                     'charlotte', 'Brontë'])\n",
    "jane_eyre['title'] = 'Jane Eyre'"
   ]
  },
  {
   "cell_type": "code",
   "execution_count": 12,
   "metadata": {},
   "outputs": [],
   "source": [
    "taming = sparknotes_df('https://www.sparknotes.com/shakespeare/shrew/summary/',\n",
    "                     ['christopher', 'sly', 'petruchio', 'katherine', 'kate', 'lucentio', 'bianca', 'taming', 'shrew',\n",
    "                     'hortensio', 'baptista', 'lord', 'tranio', 'minola', 'william', 'shakespeare'])\n",
    "taming['title'] = 'The Taming of the Shrew'"
   ]
  },
  {
   "cell_type": "code",
   "execution_count": 13,
   "metadata": {},
   "outputs": [],
   "source": [
    "like_it = sparknotes_df('https://www.sparknotes.com/shakespeare/asyoulikeit/summary/',\n",
    "                     ['orlando', 'rosalind', 'frederick', 'oliver', 'forest', 'arden', 'celia', 'william', 'shakespeare'])\n",
    "like_it['title'] = 'As You Like It'"
   ]
  },
  {
   "cell_type": "code",
   "execution_count": 14,
   "metadata": {},
   "outputs": [],
   "source": [
    "earnest = sparknotes_df('https://www.sparknotes.com/lit/earnest/summary/',\n",
    "                     ['john', 'worthing', 'jack', 'algernon', 'moncrieff', 'cecily', 'ernest', 'bracknell', 'earnest',\n",
    "                     'lady', 'miss', 'algy', 'gwendolen', 'oscar', 'wilde'])\n",
    "earnest['title'] = 'The Importance of Being Earnest'"
   ]
  },
  {
   "cell_type": "code",
   "execution_count": 15,
   "metadata": {},
   "outputs": [],
   "source": [
    "awakening = sparknotes_df2('https://www.sparknotes.com/lit/awakening/summary/',\n",
    "                     ['edna', 'robert', 'léonce', 'ratignolle', 'mademoiselle', 'awakening', 'kate', 'chopin'])\n",
    "awakening['title'] = 'The Awakening'"
   ]
  },
  {
   "cell_type": "code",
   "execution_count": 16,
   "metadata": {},
   "outputs": [],
   "source": [
    "othello = sparknotes_df2('https://www.sparknotes.com/shakespeare/othello/summary/',\n",
    "                     ['othello', 'iago', 'desdemona', 'cassio', 'roderigo', 'brabantio', 'emilia', 'duke', 'venice',\n",
    "                     'cyprus', 'william', 'shakespeare'])\n",
    "othello['title'] = 'Othello'"
   ]
  },
  {
   "cell_type": "code",
   "execution_count": 17,
   "metadata": {},
   "outputs": [],
   "source": [
    "twelfth_night = sparknotes_df('https://www.sparknotes.com/shakespeare/twelfthnight/summary/',\n",
    "                     ['orsino', 'viola', 'olivia', 'sir', 'toby', 'maria', 'sebastian', 'malvolio', 'duke', \n",
    "                      'countess', 'william', 'shakespeare'])\n",
    "twelfth_night['title'] = 'Twelfth Night'"
   ]
  },
  {
   "cell_type": "code",
   "execution_count": 18,
   "metadata": {},
   "outputs": [],
   "source": [
    "life_pi = sparknotes_df('https://www.sparknotes.com/lit/lifeofpi/summary/',\n",
    "                     ['mr.', 'adirubasamy', 'pi', 'yann', 'martel', 'piscine', 'molitor', 'patel', 'thirsty',\n",
    "                      'richard', 'parker'])\n",
    "life_pi['title'] = 'Life of Pi'"
   ]
  },
  {
   "cell_type": "code",
   "execution_count": 19,
   "metadata": {},
   "outputs": [],
   "source": [
    "kite_runner = sparknotes_df2('https://www.sparknotes.com/lit/the-kite-runner/summary/',\n",
    "                     ['amir', 'baba', 'hassan', 'sohrab', 'rahim', 'assef', 'soraya', 'ali', 'general', \n",
    "                     'sahib', 'farid', 'khala', 'taheri', 'afghanistan', 'kite', 'runner', 'kabul'])\n",
    "kite_runner['title'] = 'The Kite Runner'"
   ]
  },
  {
   "cell_type": "code",
   "execution_count": 20,
   "metadata": {},
   "outputs": [],
   "source": [
    "handmaid_tale = sparknotes_df2('https://www.sparknotes.com/lit/handmaid/summary/',\n",
    "                     ['offred', 'moira', 'serena', 'joy', 'commander', 'nick', 'aunt', 'lydia', 'luke',\n",
    "                     'ofglen', 'rita', 'cora', 'gilead', 'tale', 'handmaids', 'margaret', 'atwood', 'pieixoto', \n",
    "                      'narrator'])\n",
    "handmaid_tale['title'] = \"The Handmaid's Tale\""
   ]
  },
  {
   "cell_type": "code",
   "execution_count": 21,
   "metadata": {},
   "outputs": [],
   "source": [
    "beloved = sparknotes_df2('https://www.sparknotes.com/lit/beloved/summary/',\n",
    "                     ['sethe', 'beloved', 'paul', 'toni', 'morrison', 'denver', 'halle', 'suggs', 'amy', 'vashti'])\n",
    "beloved['title'] = \"Beloved\""
   ]
  },
  {
   "cell_type": "code",
   "execution_count": 41,
   "metadata": {},
   "outputs": [],
   "source": [
    "sparknotes_df = [much_ado, pride, gatsby, scarlet_letter, romeo_juliet, macbeth, emma, jane_eyre, taming, like_it,\n",
    "            earnest, awakening, othello, twelfth_night, life_pi, kite_runner, handmaid_tale, beloved]\n",
    "keys_df = pd.DataFrame()\n",
    "for df in sparknotes_df:\n",
    "    keys_df = keys_df.append(df)"
   ]
  },
  {
   "cell_type": "code",
   "execution_count": 42,
   "metadata": {},
   "outputs": [],
   "source": [
    "keys_df.to_csv(\"sparknotes.csv\")"
   ]
  },
  {
   "cell_type": "code",
   "execution_count": 43,
   "metadata": {},
   "outputs": [
    {
     "data": {
      "text/plain": [
       "array(['Much Ado About Nothing', 'Pride and Prejudice',\n",
       "       'The Great Gatsby', 'The Scarlet Letter', 'Romeo and Juliet',\n",
       "       'Macbeth', 'Emma', 'Jane Eyre', 'The Taming of the Shrew',\n",
       "       'As You Like It', 'The Importance of Being Earnest',\n",
       "       'The Awakening', 'Othello', 'Twelfth Night', 'Life of Pi',\n",
       "       'The Kite Runner', \"The Handmaid's Tale\", 'Beloved'], dtype=object)"
      ]
     },
     "execution_count": 43,
     "metadata": {},
     "output_type": "execute_result"
    }
   ],
   "source": [
    "keys_df.title.unique()"
   ]
  },
  {
   "cell_type": "code",
   "execution_count": null,
   "metadata": {},
   "outputs": [],
   "source": []
  }
 ],
 "metadata": {
  "kernelspec": {
   "display_name": "Python 3",
   "language": "python",
   "name": "python3"
  },
  "language_info": {
   "codemirror_mode": {
    "name": "ipython",
    "version": 3
   },
   "file_extension": ".py",
   "mimetype": "text/x-python",
   "name": "python",
   "nbconvert_exporter": "python",
   "pygments_lexer": "ipython3",
   "version": "3.7.4"
  }
 },
 "nbformat": 4,
 "nbformat_minor": 2
}
