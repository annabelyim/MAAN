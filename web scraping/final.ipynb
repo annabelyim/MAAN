{
 "cells": [
  {
   "cell_type": "code",
   "execution_count": 1,
   "metadata": {},
   "outputs": [],
   "source": [
    "import pandas as pd"
   ]
  },
  {
   "cell_type": "code",
   "execution_count": 2,
   "metadata": {},
   "outputs": [],
   "source": [
    "cliffs_df = pd.read_csv(\"cliffs.csv\", index_col = False)\n",
    "cliffs_df = cliffs_df.rename(columns = {\"Unnamed: 0\": \"word\", \"word\" : \"frequency\"})"
   ]
  },
  {
   "cell_type": "code",
   "execution_count": 3,
   "metadata": {},
   "outputs": [],
   "source": [
    "shmoop_df = pd.read_csv(\"shmoop.csv\", index_col = False)\n",
    "shmoop_df = shmoop_df.rename(columns = {\"Unnamed: 0\": \"word\", \"word\" : \"frequency\"})"
   ]
  },
  {
   "cell_type": "code",
   "execution_count": 4,
   "metadata": {},
   "outputs": [],
   "source": [
    "shmoop_themes_df = pd.read_csv(\"shmoop_themes.csv\", index_col = False)\n",
    "shmoop_themes_df = shmoop_themes_df.rename(columns = {\"Unnamed: 0\": \"word\", \"word\" : \"frequency\"})"
   ]
  },
  {
   "cell_type": "code",
   "execution_count": 5,
   "metadata": {},
   "outputs": [],
   "source": [
    "spark_df = pd.read_csv(\"sparknotes.csv\", index_col = False)\n",
    "spark_df = spark_df.rename(columns = {\"Unnamed: 0\": \"word\", \"word\" : \"frequency\"})"
   ]
  },
  {
   "cell_type": "code",
   "execution_count": 6,
   "metadata": {},
   "outputs": [],
   "source": [
    "spark_themes_df = pd.read_csv(\"sparknotes_themes.csv\", index_col = False)\n",
    "spark_themes_df = spark_themes_df.rename(columns = {\"Unnamed: 0\": \"word\", \"word\" : \"frequency\"})"
   ]
  },
  {
   "cell_type": "code",
   "execution_count": 8,
   "metadata": {},
   "outputs": [],
   "source": [
    "combined_df = [cliffs_df, shmoop_df, shmoop_themes_df, spark_df, spark_themes_df]\n",
    "\n",
    "keys_df = pd.DataFrame()\n",
    "for df in combined_df:\n",
    "    keys_df = keys_df.append(df)"
   ]
  },
  {
   "cell_type": "code",
   "execution_count": 9,
   "metadata": {},
   "outputs": [],
   "source": [
    "keys_df = keys_df.groupby([\"title\", \"word\"]).agg({\"frequency\": \"sum\"}).sort_values(by = [\"title\", \"frequency\"], ascending = False)"
   ]
  },
  {
   "cell_type": "code",
   "execution_count": 10,
   "metadata": {},
   "outputs": [
    {
     "name": "stdout",
     "output_type": "stream",
     "text": [
      "                         frequency\n",
      "title          word               \n",
      "Twelfth Night  cesario          71\n",
      "               love             58\n",
      "               play             39\n",
      "               night            35\n",
      "               twelfth          34\n",
      "...                            ...\n",
      "As You Like It written           1\n",
      "               yeah              1\n",
      "               years             1\n",
      "               youngest          1\n",
      "               youth             1\n",
      "\n",
      "[24716 rows x 1 columns]\n"
     ]
    }
   ],
   "source": [
    "print(keys_df)"
   ]
  },
  {
   "cell_type": "code",
   "execution_count": 11,
   "metadata": {},
   "outputs": [],
   "source": [
    "keys_df.to_csv(\"final.csv\")"
   ]
  },
  {
   "cell_type": "code",
   "execution_count": 14,
   "metadata": {},
   "outputs": [
    {
     "data": {
      "text/plain": [
       "array(['Twelfth Night', 'The Taming of the Shrew', 'The Scarlet Letter',\n",
       "       'The Kite Runner', 'The Importance of Being Earnest',\n",
       "       \"The Handmaid's Tale\", 'The Great Gatsby', 'The Awakening',\n",
       "       'Romeo and Juliet', 'Pride and Prejudice', 'Othello',\n",
       "       'Much Ado About Nothing', 'Macbeth', 'Life of Pi', 'Jane Eyre',\n",
       "       'Emma', 'Beloved', 'As You Like It'], dtype=object)"
      ]
     },
     "execution_count": 14,
     "metadata": {},
     "output_type": "execute_result"
    }
   ],
   "source": [
    "keys_df.reset_index().title.unique()"
   ]
  },
  {
   "cell_type": "code",
   "execution_count": null,
   "metadata": {},
   "outputs": [],
   "source": []
  }
 ],
 "metadata": {
  "kernelspec": {
   "display_name": "Python 3",
   "language": "python",
   "name": "python3"
  },
  "language_info": {
   "codemirror_mode": {
    "name": "ipython",
    "version": 3
   },
   "file_extension": ".py",
   "mimetype": "text/x-python",
   "name": "python",
   "nbconvert_exporter": "python",
   "pygments_lexer": "ipython3",
   "version": "3.7.4"
  }
 },
 "nbformat": 4,
 "nbformat_minor": 2
}
